{
  "nbformat": 4,
  "nbformat_minor": 0,
  "metadata": {
    "colab": {
      "name": "TSAD_Images_SP.ipynb",
      "provenance": [],
      "collapsed_sections": [],
      "machine_shape": "hm",
      "include_colab_link": true
    },
    "kernelspec": {
      "name": "python3",
      "display_name": "Python 3"
    },
    "accelerator": "GPU"
  },
  "cells": [
    {
      "cell_type": "markdown",
      "metadata": {
        "id": "view-in-github",
        "colab_type": "text"
      },
      "source": [
        "<a href=\"https://colab.research.google.com/github/jsg31/TS-AD-with-2D-CAEs/blob/master/TSAD_Images_SP.ipynb\" target=\"_parent\"><img src=\"https://colab.research.google.com/assets/colab-badge.svg\" alt=\"Open In Colab\"/></a>"
      ]
    },
    {
      "cell_type": "markdown",
      "metadata": {
        "id": "6whvoJYhXY1e",
        "colab_type": "text"
      },
      "source": [
        "# Time Series Anomaly Detection with Image Encodings\n",
        "\n",
        "This colab is built from the code developed by Gabriel Rodriguez Garcia in the frame of the collaboration research work made between Airbus AI Research and the Chair of Intelligent Maintenance Systems of ETH Zurich. \n",
        "\n",
        "ETH Zurich:\n",
        "  - Pr. Olga Fink\n",
        "  - Dr. Gabriel Michau\n",
        "  - **Gabriel Rodriguez Garcia**\n",
        "\n",
        "Airbus AI Research\n",
        "  - Mélanie Ducoffe\n",
        "  - Jayant Sen Gupta\n",
        "  \n",
        "  \n",
        "The idea is to transform (1D) time series data into images and use anomaly detection techniques on images to spot anomalies.  \n",
        "\n",
        "*note: code is not yet put into a python, so it is a bit dirty*"
      ]
    },
    {
      "cell_type": "code",
      "metadata": {
        "id": "syD3YH2sXWdY",
        "colab_type": "code",
        "colab": {
          "base_uri": "https://localhost:8080/",
          "height": 243
        },
        "outputId": "a04f7beb-c0d7-4bb4-98f5-60312e666794"
      },
      "source": [
        "!git clone https://github.com/gabriel-rodriguez-garcia/TS-AD-with-2D-CAEs.git\n",
        "!pip3 install pyts\n",
        "import pandas as pd\n",
        "import numpy as np\n",
        "import matplotlib.pyplot as plt\n",
        "from pyts.image import GramianAngularField\n",
        "from skimage.measure import block_reduce\n",
        "import os\n"
      ],
      "execution_count": 1,
      "outputs": [
        {
          "output_type": "stream",
          "text": [
            "Cloning into 'TS-AD-with-2D-CAEs'...\n",
            "remote: Enumerating objects: 22, done.\u001b[K\n",
            "remote: Counting objects:   4% (1/22)\u001b[K\rremote: Counting objects:   9% (2/22)\u001b[K\rremote: Counting objects:  13% (3/22)\u001b[K\rremote: Counting objects:  18% (4/22)\u001b[K\rremote: Counting objects:  22% (5/22)\u001b[K\rremote: Counting objects:  27% (6/22)\u001b[K\rremote: Counting objects:  31% (7/22)\u001b[K\rremote: Counting objects:  36% (8/22)\u001b[K\rremote: Counting objects:  40% (9/22)\u001b[K\rremote: Counting objects:  45% (10/22)\u001b[K\rremote: Counting objects:  50% (11/22)\u001b[K\rremote: Counting objects:  54% (12/22)\u001b[K\rremote: Counting objects:  59% (13/22)\u001b[K\rremote: Counting objects:  63% (14/22)\u001b[K\rremote: Counting objects:  68% (15/22)\u001b[K\rremote: Counting objects:  72% (16/22)\u001b[K\rremote: Counting objects:  77% (17/22)\u001b[K\rremote: Counting objects:  81% (18/22)\u001b[K\rremote: Counting objects:  86% (19/22)\u001b[K\rremote: Counting objects:  90% (20/22)\u001b[K\rremote: Counting objects:  95% (21/22)\u001b[K\rremote: Counting objects: 100% (22/22)\u001b[K\rremote: Counting objects: 100% (22/22), done.\u001b[K\n",
            "remote: Compressing objects: 100% (22/22), done.\u001b[K\n",
            "remote: Total 275 (delta 9), reused 0 (delta 0), pack-reused 253\u001b[K\n",
            "Receiving objects: 100% (275/275), 791.51 KiB | 2.08 MiB/s, done.\n",
            "Resolving deltas: 100% (112/112), done.\n",
            "Collecting pyts\n",
            "\u001b[?25l  Downloading https://files.pythonhosted.org/packages/36/80/5f531de808dbf1625af0434f2fcc55f8c6488980d97ba2cab5cce285c527/pyts-0.9.0-py3-none-any.whl (2.5MB)\n",
            "\u001b[K     |████████████████████████████████| 2.5MB 6.7MB/s \n",
            "\u001b[?25hRequirement already satisfied: numpy>=1.15.4scipy>=1.3.0scikit-learn>=0.20.1numba>=0.41.0 in /usr/local/lib/python3.6/dist-packages (from pyts) (1.16.5)\n",
            "Installing collected packages: pyts\n",
            "Successfully installed pyts-0.9.0\n"
          ],
          "name": "stdout"
        }
      ]
    },
    {
      "cell_type": "code",
      "metadata": {
        "id": "8d9THaQcXct8",
        "colab_type": "code",
        "colab": {
          "base_uri": "https://localhost:8080/",
          "height": 208
        },
        "outputId": "d4dd006e-1ed3-4ebf-8e6b-3908b4bacf3d"
      },
      "source": [
        "!pip3 install wget\n",
        "import wget\n",
        "url = 'https://advised-public-data.s3-eu-west-1.amazonaws.com/dftrain.h5'\n",
        "filename = wget.download(url)\n",
        "filename\n",
        "X = np.array(pd.read_hdf(filename))\n",
        "print('Data set shape:',np.shape(X))\n",
        "\n",
        "url2 = 'https://advised-public-data.s3-eu-west-1.amazonaws.com/dfvalid.h5'\n",
        "filename2 = wget.download(url2)\n",
        "filename2\n",
        "Xtest = np.array(pd.read_hdf(filename2))\n",
        "print('Data set shape:',np.shape(Xtest))\n",
        "\n"
      ],
      "execution_count": 2,
      "outputs": [
        {
          "output_type": "stream",
          "text": [
            "Collecting wget\n",
            "  Downloading https://files.pythonhosted.org/packages/47/6a/62e288da7bcda82b935ff0c6cfe542970f04e29c756b0e147251b2fb251f/wget-3.2.zip\n",
            "Building wheels for collected packages: wget\n",
            "  Building wheel for wget (setup.py) ... \u001b[?25l\u001b[?25hdone\n",
            "  Created wheel for wget: filename=wget-3.2-cp36-none-any.whl size=9681 sha256=018c0030f8ebd77bc3bd256df77efc2b358f54432471f5100ad394b904b80952\n",
            "  Stored in directory: /root/.cache/pip/wheels/40/15/30/7d8f7cea2902b4db79e3fea550d7d7b85ecb27ef992b618f3f\n",
            "Successfully built wget\n",
            "Installing collected packages: wget\n",
            "Successfully installed wget-3.2\n",
            "Data set shape: (1677, 61440)\n",
            "Data set shape: (594, 61440)\n"
          ],
          "name": "stdout"
        }
      ]
    },
    {
      "cell_type": "code",
      "metadata": {
        "id": "92AxrtkIXe4T",
        "colab_type": "code",
        "colab": {
          "base_uri": "https://localhost:8080/",
          "height": 34
        },
        "outputId": "e8502a2a-268d-41e7-ce7e-34e70e207b39"
      },
      "source": [
        "from scipy import signal\n",
        "from skimage.measure import block_reduce\n",
        "import os\n",
        "from PIL import Image\n",
        "\n",
        "\n",
        "\"\"\" The function returns a 3D matrix.\n",
        "    The new 3D matrix contains several 2D matrices, which correspond to the time series encodings/images.\n",
        "    The order of the objects does not change, which means for example that the 23rd slice of the \n",
        "    input dataset corresponds to the 23rd encoding in the 3D Matrix.\n",
        "\n",
        "    The images in this case are spectrograms. Note for this encoding, slicing is done after encoding.\n",
        "    Output Image shape is fixed at 64x64\"\"\"\n",
        "\n",
        "dataset = X\n",
        "sampling_freq_hz = 1024\n",
        "window = 'hanning'\n",
        "nperseg=126 \n",
        "nfft=None \n",
        "noverlap=118 \n",
        "padded=False\n",
        "n,l = np.shape(dataset)\n",
        "print('Encoding started...')\n",
        "\n",
        "for p in range(0,n):\n",
        "\n",
        "  if p==0:\n",
        "    _,_,sample = signal.stft(dataset[p,:], fs=sampling_freq_hz,window=window,nperseg=nperseg, nfft=nfft, noverlap=noverlap, padded=padded)\n",
        "    X_sp=np.zeros((n,64,np.shape(sample)[1]))\n",
        "\n",
        "  _,_,spec = signal.stft(dataset[p,:], fs=sampling_freq_hz,window=window,nperseg=nperseg, nfft=nfft, noverlap=noverlap, padded=padded)\n",
        "  spec = np.abs(spec)**2\n",
        "  spec=np.where(spec==0.0, 0.0001, spec)\n",
        "  spec=10*np.log10(spec) # dB Scale\n",
        "\n",
        "  X_sp[p]=spec\n",
        "\n",
        "\n",
        "print('Encoding successful!')\n",
        "print('#####################################')\n",
        "n_slices = 120\n",
        "n = np.shape(X_sp)[0]\n",
        "X_sp_red=np.zeros((n*n_slices,64,64))\n",
        "for p in range(0,n):\n",
        "  j=0\n",
        "  for i in range (p*n_slices,(p+1)*n_slices):\n",
        "    X_sp_red[i] = encoding_dataset[p,:,j*64:(j+1)*64]\n",
        "    j+=1\n",
        "\n",
        "print('output 3D Matrix shape:',np.shape(X_sp_red))\n",
        "print('#####################################')\n",
        "\n",
        "if not os.path.exists('SP'):\n",
        "  os.makedirs('SP')\n",
        "\n",
        "directory = 'SP/SP_Images'\n",
        "dataset_name = 'X_sp.npy'\n",
        "\n",
        "\n",
        "if not os.path.exists(directory):\n",
        "    os.makedirs(directory)\n",
        "\n",
        "print('Saving data...')\n",
        "np.save(os.path.join(directory,dataset_name),dataset)\n",
        "print(dataset_name,' saved at: ',os.path.join(directory,dataset_name))\n",
        "\n"
      ],
      "execution_count": 0,
      "outputs": [
        {
          "output_type": "stream",
          "text": [
            "Encoding started...\n",
            "Encoding successful!\n",
            "#####################################\n"
          ],
          "name": "stdout"
        }
      ]
    },
    {
      "cell_type": "code",
      "metadata": {
        "id": "2UNLHRezXhfa",
        "colab_type": "code",
        "colab": {}
      },
      "source": [
        "\"\"\"\n",
        "same for Xtest\n",
        "\"\"\"\"\n",
        "\n",
        "dataset = Xtest\n",
        "sampling_freq_hz = 1024\n",
        "window = 'hanning'\n",
        "nperseg=126 \n",
        "nfft=None \n",
        "noverlap=118 \n",
        "padded=False\n",
        "n,l = np.shape(dataset)\n",
        "print('Encoding started...')\n",
        "\n",
        "for p in range(0,n):\n",
        "\n",
        "  if p==0:\n",
        "    _,_,sample = signal.stft(dataset[p,:], fs=sampling_freq_hz,window=window,nperseg=nperseg, nfft=nfft, noverlap=noverlap, padded=padded)\n",
        "    X_sp=np.zeros((n,64,np.shape(sample)[1]))\n",
        "\n",
        "  _,_,spec = signal.stft(dataset[p,:], fs=sampling_freq_hz,window=window,nperseg=nperseg, nfft=nfft, noverlap=noverlap, padded=padded)\n",
        "  spec = np.abs(spec)**2\n",
        "  spec=np.where(spec==0.0, 0.0001, spec)\n",
        "  spec=10*np.log10(spec) # dB Scale\n",
        "\n",
        "  X_sp[p]=spec\n",
        "\n",
        "\n",
        "print('Encoding successful!')\n",
        "print('#####################################')\n",
        "n_slices = 120\n",
        "n = np.shape(X_sp)[0]\n",
        "X_sp_red=np.zeros((n*n_slices,64,64))\n",
        "for p in range(0,n):\n",
        "  j=0\n",
        "  for i in range (p*n_slices,(p+1)*n_slices):\n",
        "    X_sp_red[i] = encoding_dataset[p,:,j*64:(j+1)*64]\n",
        "    j+=1\n",
        "\n",
        "print('output 3D Matrix shape:',np.shape(X_sp_red))\n",
        "print('#####################################')\n",
        "\n",
        "if not os.path.exists('SP'):\n",
        "  os.makedirs('SP')\n",
        "\n",
        "directory = 'SP/SP_Images'\n",
        "dataset_name = 'X_sp.npy'\n",
        "\n",
        "\n",
        "if not os.path.exists(directory):\n",
        "    os.makedirs(directory)\n",
        "\n",
        "print('Saving data...')\n",
        "np.save(os.path.join(directory,dataset_name),dataset)\n",
        "print(dataset_name,' saved at: ',os.path.join(directory,dataset_name))\n",
        "\n"
      ],
      "execution_count": 0,
      "outputs": []
    },
    {
      "cell_type": "code",
      "metadata": {
        "id": "CGfrdPSNZ34u",
        "colab_type": "code",
        "colab": {}
      },
      "source": [
        ""
      ],
      "execution_count": 0,
      "outputs": []
    }
  ]
}